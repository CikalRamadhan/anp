{
  "nbformat": 4,
  "nbformat_minor": 0,
  "metadata": {
    "colab": {
      "provenance": [],
      "authorship_tag": "ABX9TyMnuxJ2j1RFpIlwcal/SKxm",
      "include_colab_link": true
    },
    "kernelspec": {
      "name": "python3",
      "display_name": "Python 3"
    },
    "language_info": {
      "name": "python"
    }
  },
  "cells": [
    {
      "cell_type": "markdown",
      "metadata": {
        "id": "view-in-github",
        "colab_type": "text"
      },
      "source": [
        "<a href=\"https://colab.research.google.com/github/CikalRamadhan/anp/blob/main/DAA_Pertemuan5.ipynb\" target=\"_parent\"><img src=\"https://colab.research.google.com/assets/colab-badge.svg\" alt=\"Open In Colab\"/></a>"
      ]
    },
    {
      "cell_type": "code",
      "execution_count": 9,
      "metadata": {
        "id": "NC0J4MO_r4_u"
      },
      "outputs": [],
      "source": [
        "def countInversion(arr):\n",
        "  result=0\n",
        "  for i in range(len(arr)):\n",
        "   for j in range(i+1,len(arr)):\n",
        "    if arr[i]>arr[j]:\n",
        "      result+=1\n",
        "  return result"
      ]
    },
    {
      "cell_type": "code",
      "source": [
        "arr=[21, 70, 14, 25]"
      ],
      "metadata": {
        "id": "dnejWCKQsn20"
      },
      "execution_count": 16,
      "outputs": []
    },
    {
      "cell_type": "code",
      "source": [
        "result=countInversion(arr)\n",
        "print(result)"
      ],
      "metadata": {
        "colab": {
          "base_uri": "https://localhost:8080/"
        },
        "id": "VNQthNWHst2w",
        "outputId": "0391a268-46e5-435b-835b-c0b50b0857d0"
      },
      "execution_count": 17,
      "outputs": [
        {
          "output_type": "stream",
          "name": "stdout",
          "text": [
            "3\n"
          ]
        }
      ]
    },
    {
      "cell_type": "code",
      "source": [
        "def countInversion(arr):\n",
        "  icount=0\n",
        "  if len(arr)<=1:\n",
        "    return icount\n",
        "  mid=len(arr)//2\n",
        "  left=arr[:mid]\n",
        "  right=arr[mid:]\n",
        "  icount+=countInversion(left)\n",
        "  icount+=countInversion(right)\n",
        "  i=j=k=0\n",
        "\n",
        "    #print(left)\n",
        "    #print(right)\n",
        "  while i<len(left) and j<len(right):\n",
        "    if left[i]<right[j]:\n",
        "      arr[k]=left[i]\n",
        "      i+=1\n",
        "    else:\n",
        "\t  #print(left[i],right[j])\n",
        "      arr[k]=right[j]\n",
        "      j+=1\n",
        "      icount+=(mid-i)\n",
        "    k+=1\n",
        "\n",
        "    while i<len(left):\n",
        "      arr[k]=left[i]\n",
        "      i+=1\n",
        "      k+=1\n",
        "    while j<len(right):\n",
        "      arr[k]=right[j]\n",
        "      j+=1\n",
        "      k+=1\n",
        "\n",
        "      return icount"
      ],
      "metadata": {
        "id": "PoKCi7NqyVtx"
      },
      "execution_count": 36,
      "outputs": []
    },
    {
      "cell_type": "code",
      "source": [
        "arr=[21, 70, 14, 25]"
      ],
      "metadata": {
        "id": "dC6g_CCc2eZo"
      },
      "execution_count": 37,
      "outputs": []
    },
    {
      "cell_type": "code",
      "source": [
        "result=countInversion(arr)\n",
        "print(result)"
      ],
      "metadata": {
        "colab": {
          "base_uri": "https://localhost:8080/"
        },
        "id": "wE9Qd9pV2ywB",
        "outputId": "4e14cd15-7e11-4585-9407-dfc78a527cc8"
      },
      "execution_count": 38,
      "outputs": [
        {
          "output_type": "stream",
          "name": "stdout",
          "text": [
            "2\n"
          ]
        }
      ]
    },
    {
      "cell_type": "code",
      "source": [
        "def maxSubSum(arr):\n",
        "    max_so_far=0\n",
        "    max_ending_here=0\n",
        "    for i in range(len(arr)):\n",
        "        max_ending_here+=arr[i]\n",
        "        if max_ending_here>max_so_far:\n",
        "            max_so_far=max_ending_here\n",
        "        if max_ending_here<0:\n",
        "            max_ending_here=0\n",
        "    return max_so_far"
      ],
      "metadata": {
        "id": "V5F8uofrBr6D"
      },
      "execution_count": 41,
      "outputs": []
    },
    {
      "cell_type": "code",
      "source": [
        "arr=[-2, -5, 6, -2, -3, 1, 5, -6]\n",
        "result=maxSubSum(arr)\n",
        "print(result)"
      ],
      "metadata": {
        "colab": {
          "base_uri": "https://localhost:8080/"
        },
        "id": "a_rg1uacCq6x",
        "outputId": "8b860cb7-c46c-4b81-c347-53145b378f62"
      },
      "execution_count": 42,
      "outputs": [
        {
          "output_type": "stream",
          "name": "stdout",
          "text": [
            "7\n"
          ]
        }
      ]
    },
    {
      "cell_type": "code",
      "source": [
        "def maxCrossingSum(arr,low,mid,high):\n",
        "    result=0; leftSum=float('-infinity')\n",
        "    for i in range(mid,low-1,-1):\n",
        "        result+=arr[i]\n",
        "        if result>leftSum:\n",
        "            leftSum=result\n",
        "    result=0; rightSum=float('-infinity')\n",
        "    for i in range(mid+1,high+1):\n",
        "        result+=arr[i]\n",
        "        if result>rightSum:\n",
        "            rightSum=result\n",
        "    return leftSum+rightSum\n",
        "\n",
        "\n",
        "def maxSum(arr,low,high):\n",
        "    if low==high:\n",
        "        return arr[low]\n",
        "    mid=(low+high)//2\n",
        "    return max(maxSum(arr,low,mid),maxSum(arr,mid+1,high),maxCrossingSum(arr,low,mid,high))\n"
      ],
      "metadata": {
        "id": "B8WCUSttC-xk"
      },
      "execution_count": 45,
      "outputs": []
    },
    {
      "cell_type": "code",
      "source": [
        "arr=[-2, -5, 6, -2, -3, 1, 5, -6]\n",
        "result=maxSum(arr,0,len(arr)-1)\n",
        "print(result)"
      ],
      "metadata": {
        "colab": {
          "base_uri": "https://localhost:8080/"
        },
        "id": "wxvnBkDDEeDq",
        "outputId": "d3dce28d-460c-4f38-82a4-16f295380f41"
      },
      "execution_count": 47,
      "outputs": [
        {
          "output_type": "stream",
          "name": "stdout",
          "text": [
            "7\n"
          ]
        }
      ]
    },
    {
      "cell_type": "code",
      "source": [
        "def commonPrefix(str1,str2):\n",
        "    n1=len(str1);n2=len(str1)\n",
        "    i,j=0,0\n",
        "    s=\"\"\n",
        "    while i<n1 and j<n2:\n",
        "        if str1[i]==str2[j]:\n",
        "            s+=str1[i]\n",
        "            i+=1\n",
        "            j+=1\n",
        "        else:\n",
        "            break\n",
        "    return s"
      ],
      "metadata": {
        "id": "PLTi2s8CMnDm"
      },
      "execution_count": 49,
      "outputs": []
    },
    {
      "cell_type": "code",
      "source": [
        "def longesrCommonPrefix(arr,low,high):\n",
        "    if low==high:\n",
        "        return arr[low]\n",
        "    mid=(low+high)//2\n",
        "    result1=longestCommonPrefix(arr,low,mid)\n",
        "    result2=longestCommonPrefix(arr,mid+1,high)\n",
        "    result=commonPrefix(result1,result2)\n",
        "    return result"
      ],
      "metadata": {
        "id": "17VSNs7YNKSF"
      },
      "execution_count": 51,
      "outputs": []
    },
    {
      "cell_type": "code",
      "source": [
        "arr=['geekforgeeks', 'geeks', 'geelk', 'geezer']"
      ],
      "metadata": {
        "id": "-yxbZy7vNpTB"
      },
      "execution_count": 52,
      "outputs": []
    },
    {
      "cell_type": "code",
      "source": [
        "print(result)"
      ],
      "metadata": {
        "colab": {
          "base_uri": "https://localhost:8080/"
        },
        "id": "BkVcCS7NOQuX",
        "outputId": "9323302b-5037-4977-aa83-06d17a9388d9"
      },
      "execution_count": 60,
      "outputs": [
        {
          "output_type": "stream",
          "name": "stdout",
          "text": [
            "7\n"
          ]
        }
      ]
    }
  ]
}